{
  "nbformat": 4,
  "nbformat_minor": 0,
  "metadata": {
    "colab": {
      "name": "Practical4.ipynb",
      "provenance": [],
      "authorship_tag": "ABX9TyN+mjfI2ruQAVQh10Y10uyA",
      "include_colab_link": true
    },
    "kernelspec": {
      "name": "python3",
      "display_name": "Python 3"
    },
    "language_info": {
      "name": "python"
    }
  },
  "cells": [
    {
      "cell_type": "markdown",
      "metadata": {
        "id": "view-in-github",
        "colab_type": "text"
      },
      "source": [
        "<a href=\"https://colab.research.google.com/github/gautami28/Practical4/blob/main/Practical4.ipynb\" target=\"_parent\"><img src=\"https://colab.research.google.com/assets/colab-badge.svg\" alt=\"Open In Colab\"/></a>"
      ]
    },
    {
      "cell_type": "code",
      "metadata": {
        "colab": {
          "base_uri": "https://localhost:8080/"
        },
        "id": "yvV7Jx85jdXp",
        "outputId": "a076302a-0a1d-4d2e-a352-fb591ec9e7af"
      },
      "source": [
        "net_amount=0\n",
        "while (net_amount<=0):\n",
        "  while input(\"DO YOU WANT TO CONTINUE (Y to continue)\")==\"Y\":\n",
        "    a = input(\"ENTER INPUT:\")\n",
        "    trans = a.split(\" \")\n",
        "    b = trans[0]\n",
        "    amt = int(trans[1])\n",
        "  \n",
        "    if b==\"D\":\n",
        "      net_amount+=amt \n",
        "    elif b==\"W\":\n",
        "      net_amount-=amt\n",
        "    else:\n",
        "      pass\n",
        "\n",
        "\n",
        "   \n",
        "print(\"TOTAL BALANCE:\",net_amount)  \n",
        "\n",
        "\n",
        "#print(net_amount)"
      ],
      "execution_count": 27,
      "outputs": [
        {
          "output_type": "stream",
          "name": "stdout",
          "text": [
            "DO YOU WANT TO CONTINUE (Y to continue)Y\n",
            "ENTER INPUT:D 300\n",
            "DO YOU WANT TO CONTINUE (Y to continue)Y\n",
            "ENTER INPUT:D 300\n",
            "DO YOU WANT TO CONTINUE (Y to continue)Y\n",
            "ENTER INPUT:W 100\n",
            "DO YOU WANT TO CONTINUE (Y to continue)N\n",
            "TOTAL BALANCE: 500\n"
          ]
        }
      ]
    }
  ]
}